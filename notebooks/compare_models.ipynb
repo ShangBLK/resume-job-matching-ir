{
 "cells": [
  {
   "cell_type": "markdown",
   "id": "510eae22-8670-49f1-9cfd-ace5cd8523cb",
   "metadata": {},
   "source": [
    "## Load and Compare Retrieval Results \n",
    "\n",
    "This section loads the CSVs produced by both retrieval methods — TF-IDF and LLM — where each **resume** is used to retrieve **top-matching jobs**.\n",
    "\n",
    "### What We Compare:\n",
    "- **Overlap in Top-*k* Jobs per Resume**\n",
    "- **Agreement Percentage between TF-IDF and LLM**"
   ]
  },
  {
   "cell_type": "code",
   "execution_count": 14,
   "id": "5990242a-be61-4cc7-aede-6ad5a8b2adb7",
   "metadata": {},
   "outputs": [],
   "source": [
    "import pandas as pd\n",
    "import matplotlib.pyplot as plt"
   ]
  },
  {
   "cell_type": "code",
   "execution_count": 16,
   "id": "adcc774d-f302-4bd1-a070-5a3a5a56ba45",
   "metadata": {},
   "outputs": [],
   "source": [
    "# Load both results (resume-to-job matches)\n",
    "tfidf_df = pd.read_csv(\"../notebooks/tfidf_resume_to_jobs.csv\")\n",
    "llm_df = pd.read_csv(\"../notebooks/llm_resume_to_jobs.csv\")"
   ]
  },
  {
   "cell_type": "code",
   "execution_count": 18,
   "id": "00caf0fa-737b-4df0-9eb8-6697219c4525",
   "metadata": {},
   "outputs": [],
   "source": [
    "# Parse and Clean Scores\n",
    "tfidf_df['TFIDF_Score'] = pd.to_numeric(tfidf_df['TFIDF_Score'], errors='coerce')\n",
    "llm_df['LLM_Score'] = pd.to_numeric(llm_df['LLM_Score'], errors='coerce')"
   ]
  },
  {
   "cell_type": "code",
   "execution_count": 20,
   "id": "653edefa-0dea-4171-8748-04daf255396a",
   "metadata": {},
   "outputs": [],
   "source": [
    "overlap_summary = []\n",
    "resume_ids = sorted(set(tfidf_df['Resume_ID']) & set(llm_df['Resume_ID']))\n",
    "\n",
    "for resume_id in resume_ids:\n",
    "    tfidf_subset = tfidf_df[tfidf_df['Resume_ID'] == resume_id]\n",
    "    llm_subset = llm_df[llm_df['Resume_ID'] == resume_id]\n",
    "    \n",
    "    tfidf_jobs = set(tfidf_subset['Matched_Job_ID'].tolist())\n",
    "    llm_jobs = set(llm_subset['Matched_Job_ID'].tolist())\n",
    "\n",
    "    overlap = tfidf_jobs & llm_jobs\n",
    "    overlap_count = len(overlap)\n",
    "\n",
    "    overlap_summary.append({\n",
    "        'Resume_ID': resume_id,\n",
    "        'TFIDF Top-K': len(tfidf_jobs),\n",
    "        'LLM Top-K': len(llm_jobs),\n",
    "        'Overlap Count': overlap_count,\n",
    "        'Overlap %': round(overlap_count / 10 * 100, 1)\n",
    "    })"
   ]
  },
  {
   "cell_type": "code",
   "execution_count": 22,
   "id": "1daa9c10-df0a-4e6e-95e2-43bac139bf8a",
   "metadata": {},
   "outputs": [
    {
     "name": "stdout",
     "output_type": "stream",
     "text": [
      "=== TF-IDF vs LLM Retrieval Overlap Summary ===\n",
      " Resume_ID  TFIDF Top-K  LLM Top-K  Overlap Count  Overlap %\n",
      "  10089434           10         10              2       20.0\n",
      "  10247517           10         10              1       10.0\n",
      "  10265057           10         10              0        0.0\n",
      "  10553553           10         10              1       10.0\n",
      "  10641230           10         10              0        0.0\n",
      "  10839851           10         10              0        0.0\n",
      "  10840430           10         10              1       10.0\n",
      "  11580408           10         10              1       10.0\n",
      "  11584809           10         10              2       20.0\n",
      "  11957080           10         10              0        0.0\n",
      "  12045067           10         10              1       10.0\n",
      "  12334140           10         10              0        0.0\n",
      "  12635195           10         10              0        0.0\n",
      "  12763627           10         10              1       10.0\n",
      "  13385306           10         10              0        0.0\n",
      "  13405733           10         10              1       10.0\n",
      "  13477922           10         10              0        0.0\n",
      "  13836471           10         10              4       40.0\n",
      "  14789139           10         10              1       10.0\n",
      "  15118506           10         10              3       30.0\n",
      "  15297298           10         10              0        0.0\n",
      "  15651486           10         10              1       10.0\n",
      "  15791766           10         10              2       20.0\n",
      "  15802627           10         10              2       20.0\n",
      "  16186411           10         10              2       20.0\n",
      "  16533554           10         10              1       10.0\n",
      "  16899268           10         10              0        0.0\n",
      "  17111768           10         10              0        0.0\n",
      "  17641670           10         10              0        0.0\n",
      "  17681064           10         10              2       20.0\n",
      "  17688766           10         10              3       30.0\n",
      "  17987433           10         10              0        0.0\n",
      "  18067556           10         10              3       30.0\n",
      "  18159866           10         10              2       20.0\n",
      "  18176523           10         10              2       20.0\n",
      "  18187364           10         10              2       20.0\n",
      "  18301617           10         10              3       30.0\n",
      "  18752129           10         10              2       20.0\n",
      "  19201175           10         10              0        0.0\n",
      "  19796840           10         10              2       20.0\n",
      "  19850482           10         10              0        0.0\n",
      "  20001721           10         10              0        0.0\n",
      "  20024870           10         10              0        0.0\n",
      "  20237244           10         10              0        0.0\n",
      "  20408458           10         10              1       10.0\n",
      "  20674668           10         10              1       10.0\n",
      "  20824105           10         10              0        0.0\n",
      "  20879311           10         10              1       10.0\n",
      "  21283365           10         10              1       10.0\n",
      "  21780877           10         10              0        0.0\n",
      "  22450718           10         10              1       10.0\n",
      "  22776912           10         10              0        0.0\n",
      "  23527321           10         10              5       50.0\n",
      "  23666211           10         10              1       10.0\n",
      "  23864648           10         10              2       20.0\n",
      "  24020470           10         10              0        0.0\n",
      "  24038620           10         10              0        0.0\n",
      "  24083609           10         10              0        0.0\n",
      "  24230851           10         10              1       10.0\n",
      "  24889109           10         10              0        0.0\n",
      "  24913648           10         10              0        0.0\n",
      "  25207620           10         10              1       10.0\n",
      "  25857360           10         10              0        0.0\n",
      "  25905275           10         10              0        0.0\n",
      "  25959103           10         10              0        0.0\n",
      "  25990239           10         10              2       20.0\n",
      "  26480367           10         10              1       10.0\n",
      "  26746496           10         10              2       20.0\n",
      "  26768723           10         10              1       10.0\n",
      "  26801767           10         10              2       20.0\n",
      "  27058381           10         10              0        0.0\n",
      "  27295996           10         10              1       10.0\n",
      "  27372171           10         10              0        0.0\n",
      "  27485716           10         10              0        0.0\n",
      "  27536013           10         10              0        0.0\n",
      "  27770859           10         10              1       10.0\n",
      "  28035460           10         10              0        0.0\n",
      "  28126340           10         10              1       10.0\n",
      "  28672970           10         10              1       10.0\n",
      "  28697203           10         10              1       10.0\n",
      "  28897981           10         10              0        0.0\n",
      "  29051656           10         10              1       10.0\n",
      "  29075857           10         10              0        0.0\n",
      "  29975124           10         10              0        0.0\n",
      "  30223363           10         10              0        0.0\n",
      "  31111279           10         10              1       10.0\n",
      "  31243710           10         10              2       20.0\n",
      "  32959732           10         10              0        0.0\n",
      "  33241454           10         10              1       10.0\n",
      "  33381211           10         10              0        0.0\n",
      "  35325329           10         10              0        0.0\n",
      "  36434348           10         10              1       10.0\n",
      "  36856210           10         10              1       10.0\n",
      "  37242217           10         10              0        0.0\n",
      "  37764298           10         10              0        0.0\n",
      "  38753827           10         10              3       30.0\n",
      "  39413067           10         10              0        0.0\n",
      "  39718499           10         10              3       30.0\n",
      "  40018190           10         10              0        0.0\n",
      "  41344156           10         10              0        0.0\n",
      "  46260230           10         10              0        0.0\n",
      "  48037995           10         10              3       30.0\n",
      "  51363762           10         10              1       10.0\n",
      "  51639418           10         10              0        0.0\n",
      "  52246737           10         10              1       10.0\n",
      "  52618188           10         10              1       10.0\n",
      "  57002858           10         10              2       20.0\n",
      "  64017585           10         10              0        0.0\n",
      "  66832845           10         10              3       30.0\n",
      "  68460556           10         10              0        0.0\n",
      "  70089206           10         10              1       10.0\n",
      "  79541391           10         10              0        0.0\n",
      "  81761658           10         10              2       20.0\n",
      "  83816738           10         10              0        0.0\n",
      "  89413122           10         10              0        0.0\n",
      "  90867631           10         10              0        0.0\n",
      "  91121135           10         10              1       10.0\n",
      "  91635250           10         10              1       10.0\n",
      "  91697974           10         10              0        0.0\n",
      "  92069209           10         10              0        0.0\n"
     ]
    }
   ],
   "source": [
    "# Display as DataFrame\n",
    "comparison_df = pd.DataFrame(overlap_summary)\n",
    "print(\"=== TF-IDF vs LLM Retrieval Overlap Summary ===\")\n",
    "print(comparison_df.to_string(index=False))"
   ]
  },
  {
   "cell_type": "code",
   "execution_count": 34,
   "id": "e8043c88-3a60-408b-968d-fa4ded955bba",
   "metadata": {},
   "outputs": [
    {
     "data": {
      "image/png": "[encoded data removed]",
      "text/plain": [
       "<Figure size 1200x500 with 1 Axes>"
      ]
     },
     "metadata": {},
     "output_type": "display_data"
    }
   ],
   "source": [
    "plt.figure(figsize=(12, 5))\n",
    "plt.bar(range(len(comparison_df)), comparison_df['Overlap %'])\n",
    "\n",
    "plt.xlabel('Resume Index')\n",
    "plt.ylabel('Overlap Percentage (%)')\n",
    "plt.title('Top-10 Job Match Overlap Between TF-IDF and LLM')\n",
    "plt.tight_layout()\n",
    "plt.show()"
   ]
  },
  {
   "cell_type": "code",
   "execution_count": 36,
   "id": "fdf91097-58e2-4f53-bb78-503bbaea0805",
   "metadata": {},
   "outputs": [],
   "source": [
    "def compute_retrieval_overlap_metrics(tfidf_path, llm_path, top_k=10):\n",
    "    \"\"\"\n",
    "    Computes overall retrieval comparison metrics between TF-IDF and LLM-based methods.\n",
    "\n",
    "    Returns a dictionary with average overlap percentage, average TF-IDF score, and average LLM score.\n",
    "    \"\"\"\n",
    "\n",
    "    tfidf_df = pd.read_csv(tfidf_path)\n",
    "    llm_df = pd.read_csv(llm_path)\n",
    "\n",
    "    tfidf_df['TFIDF_Score'] = pd.to_numeric(tfidf_df['TFIDF_Score'], errors='coerce')\n",
    "    llm_df['LLM_Score'] = pd.to_numeric(llm_df['LLM_Score'], errors='coerce')\n",
    "\n",
    "    resume_ids = sorted(set(tfidf_df['Resume_ID']) & set(llm_df['Resume_ID']))\n",
    "    results = []\n",
    "\n",
    "    for resume_id in resume_ids:\n",
    "        tfidf_jobs = set(tfidf_df[tfidf_df['Resume_ID'] == resume_id]['Matched_Job_ID'])\n",
    "        llm_jobs = set(llm_df[llm_df['Resume_ID'] == resume_id]['Matched_Job_ID'])\n",
    "        overlap = tfidf_jobs & llm_jobs\n",
    "\n",
    "        results.append({\n",
    "            'overlap_pct': len(overlap) / top_k * 100,\n",
    "            'avg_tfidf': tfidf_df[tfidf_df['Resume_ID'] == resume_id]['TFIDF_Score'].mean(),\n",
    "            'avg_llm': llm_df[llm_df['Resume_ID'] == resume_id]['LLM_Score'].mean()\n",
    "        })\n",
    "\n",
    "    # Aggregate metrics\n",
    "    avg_overlap_pct = sum(r['overlap_pct'] for r in results) / len(results)\n",
    "    avg_tfidf_score = sum(r['avg_tfidf'] for r in results) / len(results)\n",
    "    avg_llm_score = sum(r['avg_llm'] for r in results) / len(results)\n",
    "\n",
    "    return {\n",
    "        'Average_Overlap_Percentage': round(avg_overlap_pct, 2),\n",
    "        'Average_TFIDF_Score': round(avg_tfidf_score, 4),\n",
    "        'Average_LLM_Score': round(avg_llm_score, 4)\n",
    "    }\n"
   ]
  },
  {
   "cell_type": "code",
   "execution_count": 38,
   "id": "e7b97b74-4a03-4e46-8408-1409d38bceba",
   "metadata": {},
   "outputs": [
    {
     "name": "stdout",
     "output_type": "stream",
     "text": [
      "{'Average_Overlap_Percentage': 8.75, 'Average_TFIDF_Score': 0.3402, 'Average_LLM_Score': 0.5942}\n"
     ]
    }
   ],
   "source": [
    "metrics = compute_retrieval_overlap_metrics(\n",
    "    tfidf_path=\"../notebooks/tfidf_resume_to_jobs.csv\",\n",
    "    llm_path=\"../notebooks/llm_resume_to_jobs.csv\"\n",
    ")\n",
    "print(metrics)"
   ]
  }
 ],
 "metadata": {
  "kernelspec": {
   "display_name": "Python [conda env:base] *",
   "language": "python",
   "name": "conda-base-py"
  },
  "language_info": {
   "codemirror_mode": {
    "name": "ipython",
    "version": 3
   },
   "file_extension": ".py",
   "mimetype": "text/x-python",
   "name": "python",
   "nbconvert_exporter": "python",
   "pygments_lexer": "ipython3",
   "version": "3.12.7"
  }
 },
 "nbformat": 4,
 "nbformat_minor": 5
}
